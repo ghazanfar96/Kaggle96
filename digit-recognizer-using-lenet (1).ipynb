{
 "cells": [
  {
   "cell_type": "code",
   "execution_count": 1,
   "id": "7bf7a0fc",
   "metadata": {
    "execution": {
     "iopub.execute_input": "2023-07-09T16:28:08.195379Z",
     "iopub.status.busy": "2023-07-09T16:28:08.194968Z",
     "iopub.status.idle": "2023-07-09T16:28:18.319652Z",
     "shell.execute_reply": "2023-07-09T16:28:18.317494Z"
    },
    "papermill": {
     "duration": 10.135547,
     "end_time": "2023-07-09T16:28:18.323157",
     "exception": false,
     "start_time": "2023-07-09T16:28:08.187610",
     "status": "completed"
    },
    "tags": []
   },
   "outputs": [
    {
     "name": "stderr",
     "output_type": "stream",
     "text": [
      "/opt/conda/lib/python3.10/site-packages/tensorflow_io/python/ops/__init__.py:98: UserWarning: unable to load libtensorflow_io_plugins.so: unable to open file: libtensorflow_io_plugins.so, from paths: ['/opt/conda/lib/python3.10/site-packages/tensorflow_io/python/ops/libtensorflow_io_plugins.so']\n",
      "caused by: ['/opt/conda/lib/python3.10/site-packages/tensorflow_io/python/ops/libtensorflow_io_plugins.so: undefined symbol: _ZN3tsl6StatusC1EN10tensorflow5error4CodeESt17basic_string_viewIcSt11char_traitsIcEENS_14SourceLocationE']\n",
      "  warnings.warn(f\"unable to load libtensorflow_io_plugins.so: {e}\")\n",
      "/opt/conda/lib/python3.10/site-packages/tensorflow_io/python/ops/__init__.py:104: UserWarning: file system plugins are not loaded: unable to open file: libtensorflow_io.so, from paths: ['/opt/conda/lib/python3.10/site-packages/tensorflow_io/python/ops/libtensorflow_io.so']\n",
      "caused by: ['/opt/conda/lib/python3.10/site-packages/tensorflow_io/python/ops/libtensorflow_io.so: undefined symbol: _ZTVN10tensorflow13GcsFileSystemE']\n",
      "  warnings.warn(f\"file system plugins are not loaded: {e}\")\n"
     ]
    },
    {
     "name": "stdout",
     "output_type": "stream",
     "text": [
      "['digit-recognizer']\n"
     ]
    }
   ],
   "source": [
    "# This Python 3 environment comes with many helpful analytics libraries installed\n",
    "# It is defined by the kaggle/python docker image: https://github.com/kaggle/docker-python\n",
    "# For example, here's several helpful packages to load in \n",
    "\n",
    "import numpy as np # linear algebra\n",
    "import pandas as pd # data processing, CSV file I/O (e.g. pd.read_csv)\n",
    "import keras \n",
    "from keras.models import Sequential\n",
    "from keras.layers import Conv2D, Dense, MaxPool2D, Dropout, Flatten\n",
    "from keras.optimizers import Adam\n",
    "from keras.preprocessing.image import ImageDataGenerator\n",
    "from keras.callbacks import ReduceLROnPlateau\n",
    "from sklearn.model_selection import train_test_split\n",
    "import matplotlib.pyplot as plt\n",
    "import seaborn as sns\n",
    "\n",
    "# Input data files are available in the \"../input/\" directory.\n",
    "# For example, running this (by clicking run or pressing Shift+Enter) will list the files in the input directory\n",
    "\n",
    "import os\n",
    "print(os.listdir(\"../input\"))\n",
    "\n",
    "# Any results you write to the current directory are saved as output."
   ]
  },
  {
   "cell_type": "code",
   "execution_count": 2,
   "id": "aee9898a",
   "metadata": {
    "execution": {
     "iopub.execute_input": "2023-07-09T16:28:18.341060Z",
     "iopub.status.busy": "2023-07-09T16:28:18.340285Z",
     "iopub.status.idle": "2023-07-09T16:28:20.781498Z",
     "shell.execute_reply": "2023-07-09T16:28:20.780200Z"
    },
    "papermill": {
     "duration": 2.453132,
     "end_time": "2023-07-09T16:28:20.783629",
     "exception": false,
     "start_time": "2023-07-09T16:28:18.330497",
     "status": "completed"
    },
    "tags": []
   },
   "outputs": [],
   "source": [
    "df_train = pd.read_csv('/kaggle/input/digit-recognizer/train.csv')\n",
    "X_train = df_train.iloc[:, 1:]\n",
    "Y_train = df_train.iloc[:, 0]"
   ]
  },
  {
   "cell_type": "code",
   "execution_count": 3,
   "id": "47d5b640",
   "metadata": {
    "execution": {
     "iopub.execute_input": "2023-07-09T16:28:20.795421Z",
     "iopub.status.busy": "2023-07-09T16:28:20.795064Z",
     "iopub.status.idle": "2023-07-09T16:28:20.827828Z",
     "shell.execute_reply": "2023-07-09T16:28:20.826975Z"
    },
    "papermill": {
     "duration": 0.040765,
     "end_time": "2023-07-09T16:28:20.829708",
     "exception": false,
     "start_time": "2023-07-09T16:28:20.788943",
     "status": "completed"
    },
    "tags": []
   },
   "outputs": [
    {
     "data": {
      "text/html": [
       "<div>\n",
       "<style scoped>\n",
       "    .dataframe tbody tr th:only-of-type {\n",
       "        vertical-align: middle;\n",
       "    }\n",
       "\n",
       "    .dataframe tbody tr th {\n",
       "        vertical-align: top;\n",
       "    }\n",
       "\n",
       "    .dataframe thead th {\n",
       "        text-align: right;\n",
       "    }\n",
       "</style>\n",
       "<table border=\"1\" class=\"dataframe\">\n",
       "  <thead>\n",
       "    <tr style=\"text-align: right;\">\n",
       "      <th></th>\n",
       "      <th>pixel0</th>\n",
       "      <th>pixel1</th>\n",
       "      <th>pixel2</th>\n",
       "      <th>pixel3</th>\n",
       "      <th>pixel4</th>\n",
       "      <th>pixel5</th>\n",
       "      <th>pixel6</th>\n",
       "      <th>pixel7</th>\n",
       "      <th>pixel8</th>\n",
       "      <th>pixel9</th>\n",
       "      <th>...</th>\n",
       "      <th>pixel774</th>\n",
       "      <th>pixel775</th>\n",
       "      <th>pixel776</th>\n",
       "      <th>pixel777</th>\n",
       "      <th>pixel778</th>\n",
       "      <th>pixel779</th>\n",
       "      <th>pixel780</th>\n",
       "      <th>pixel781</th>\n",
       "      <th>pixel782</th>\n",
       "      <th>pixel783</th>\n",
       "    </tr>\n",
       "  </thead>\n",
       "  <tbody>\n",
       "    <tr>\n",
       "      <th>0</th>\n",
       "      <td>0</td>\n",
       "      <td>0</td>\n",
       "      <td>0</td>\n",
       "      <td>0</td>\n",
       "      <td>0</td>\n",
       "      <td>0</td>\n",
       "      <td>0</td>\n",
       "      <td>0</td>\n",
       "      <td>0</td>\n",
       "      <td>0</td>\n",
       "      <td>...</td>\n",
       "      <td>0</td>\n",
       "      <td>0</td>\n",
       "      <td>0</td>\n",
       "      <td>0</td>\n",
       "      <td>0</td>\n",
       "      <td>0</td>\n",
       "      <td>0</td>\n",
       "      <td>0</td>\n",
       "      <td>0</td>\n",
       "      <td>0</td>\n",
       "    </tr>\n",
       "    <tr>\n",
       "      <th>1</th>\n",
       "      <td>0</td>\n",
       "      <td>0</td>\n",
       "      <td>0</td>\n",
       "      <td>0</td>\n",
       "      <td>0</td>\n",
       "      <td>0</td>\n",
       "      <td>0</td>\n",
       "      <td>0</td>\n",
       "      <td>0</td>\n",
       "      <td>0</td>\n",
       "      <td>...</td>\n",
       "      <td>0</td>\n",
       "      <td>0</td>\n",
       "      <td>0</td>\n",
       "      <td>0</td>\n",
       "      <td>0</td>\n",
       "      <td>0</td>\n",
       "      <td>0</td>\n",
       "      <td>0</td>\n",
       "      <td>0</td>\n",
       "      <td>0</td>\n",
       "    </tr>\n",
       "    <tr>\n",
       "      <th>2</th>\n",
       "      <td>0</td>\n",
       "      <td>0</td>\n",
       "      <td>0</td>\n",
       "      <td>0</td>\n",
       "      <td>0</td>\n",
       "      <td>0</td>\n",
       "      <td>0</td>\n",
       "      <td>0</td>\n",
       "      <td>0</td>\n",
       "      <td>0</td>\n",
       "      <td>...</td>\n",
       "      <td>0</td>\n",
       "      <td>0</td>\n",
       "      <td>0</td>\n",
       "      <td>0</td>\n",
       "      <td>0</td>\n",
       "      <td>0</td>\n",
       "      <td>0</td>\n",
       "      <td>0</td>\n",
       "      <td>0</td>\n",
       "      <td>0</td>\n",
       "    </tr>\n",
       "    <tr>\n",
       "      <th>3</th>\n",
       "      <td>0</td>\n",
       "      <td>0</td>\n",
       "      <td>0</td>\n",
       "      <td>0</td>\n",
       "      <td>0</td>\n",
       "      <td>0</td>\n",
       "      <td>0</td>\n",
       "      <td>0</td>\n",
       "      <td>0</td>\n",
       "      <td>0</td>\n",
       "      <td>...</td>\n",
       "      <td>0</td>\n",
       "      <td>0</td>\n",
       "      <td>0</td>\n",
       "      <td>0</td>\n",
       "      <td>0</td>\n",
       "      <td>0</td>\n",
       "      <td>0</td>\n",
       "      <td>0</td>\n",
       "      <td>0</td>\n",
       "      <td>0</td>\n",
       "    </tr>\n",
       "    <tr>\n",
       "      <th>4</th>\n",
       "      <td>0</td>\n",
       "      <td>0</td>\n",
       "      <td>0</td>\n",
       "      <td>0</td>\n",
       "      <td>0</td>\n",
       "      <td>0</td>\n",
       "      <td>0</td>\n",
       "      <td>0</td>\n",
       "      <td>0</td>\n",
       "      <td>0</td>\n",
       "      <td>...</td>\n",
       "      <td>0</td>\n",
       "      <td>0</td>\n",
       "      <td>0</td>\n",
       "      <td>0</td>\n",
       "      <td>0</td>\n",
       "      <td>0</td>\n",
       "      <td>0</td>\n",
       "      <td>0</td>\n",
       "      <td>0</td>\n",
       "      <td>0</td>\n",
       "    </tr>\n",
       "  </tbody>\n",
       "</table>\n",
       "<p>5 rows × 784 columns</p>\n",
       "</div>"
      ],
      "text/plain": [
       "   pixel0  pixel1  pixel2  pixel3  pixel4  pixel5  pixel6  pixel7  pixel8  \\\n",
       "0       0       0       0       0       0       0       0       0       0   \n",
       "1       0       0       0       0       0       0       0       0       0   \n",
       "2       0       0       0       0       0       0       0       0       0   \n",
       "3       0       0       0       0       0       0       0       0       0   \n",
       "4       0       0       0       0       0       0       0       0       0   \n",
       "\n",
       "   pixel9  ...  pixel774  pixel775  pixel776  pixel777  pixel778  pixel779  \\\n",
       "0       0  ...         0         0         0         0         0         0   \n",
       "1       0  ...         0         0         0         0         0         0   \n",
       "2       0  ...         0         0         0         0         0         0   \n",
       "3       0  ...         0         0         0         0         0         0   \n",
       "4       0  ...         0         0         0         0         0         0   \n",
       "\n",
       "   pixel780  pixel781  pixel782  pixel783  \n",
       "0         0         0         0         0  \n",
       "1         0         0         0         0  \n",
       "2         0         0         0         0  \n",
       "3         0         0         0         0  \n",
       "4         0         0         0         0  \n",
       "\n",
       "[5 rows x 784 columns]"
      ]
     },
     "execution_count": 3,
     "metadata": {},
     "output_type": "execute_result"
    }
   ],
   "source": [
    "X_train.head()"
   ]
  },
  {
   "cell_type": "code",
   "execution_count": 4,
   "id": "7bfafe02",
   "metadata": {
    "execution": {
     "iopub.execute_input": "2023-07-09T16:28:20.841823Z",
     "iopub.status.busy": "2023-07-09T16:28:20.841500Z",
     "iopub.status.idle": "2023-07-09T16:28:20.848838Z",
     "shell.execute_reply": "2023-07-09T16:28:20.847812Z"
    },
    "papermill": {
     "duration": 0.01601,
     "end_time": "2023-07-09T16:28:20.851237",
     "exception": false,
     "start_time": "2023-07-09T16:28:20.835227",
     "status": "completed"
    },
    "tags": []
   },
   "outputs": [
    {
     "data": {
      "text/plain": [
       "0    1\n",
       "1    0\n",
       "2    1\n",
       "3    4\n",
       "4    0\n",
       "Name: label, dtype: int64"
      ]
     },
     "execution_count": 4,
     "metadata": {},
     "output_type": "execute_result"
    }
   ],
   "source": [
    "Y_train.head()"
   ]
  },
  {
   "cell_type": "code",
   "execution_count": 5,
   "id": "e742ad87",
   "metadata": {
    "execution": {
     "iopub.execute_input": "2023-07-09T16:28:20.865717Z",
     "iopub.status.busy": "2023-07-09T16:28:20.865371Z",
     "iopub.status.idle": "2023-07-09T16:28:20.916068Z",
     "shell.execute_reply": "2023-07-09T16:28:20.915259Z"
    },
    "papermill": {
     "duration": 0.059531,
     "end_time": "2023-07-09T16:28:20.918245",
     "exception": false,
     "start_time": "2023-07-09T16:28:20.858714",
     "status": "completed"
    },
    "tags": []
   },
   "outputs": [],
   "source": [
    "X_train = np.array(X_train)\n",
    "Y_train = np.array(Y_train)"
   ]
  },
  {
   "cell_type": "code",
   "execution_count": 6,
   "id": "55dd8987",
   "metadata": {
    "execution": {
     "iopub.execute_input": "2023-07-09T16:28:20.930881Z",
     "iopub.status.busy": "2023-07-09T16:28:20.930566Z",
     "iopub.status.idle": "2023-07-09T16:28:21.009301Z",
     "shell.execute_reply": "2023-07-09T16:28:21.007955Z"
    },
    "papermill": {
     "duration": 0.087875,
     "end_time": "2023-07-09T16:28:21.011864",
     "exception": false,
     "start_time": "2023-07-09T16:28:20.923989",
     "status": "completed"
    },
    "tags": []
   },
   "outputs": [],
   "source": [
    "# Normalize inputs\n",
    "X_train = X_train / 250.0"
   ]
  },
  {
   "cell_type": "code",
   "execution_count": 7,
   "id": "36e308eb",
   "metadata": {
    "execution": {
     "iopub.execute_input": "2023-07-09T16:28:21.025761Z",
     "iopub.status.busy": "2023-07-09T16:28:21.024732Z",
     "iopub.status.idle": "2023-07-09T16:28:21.031916Z",
     "shell.execute_reply": "2023-07-09T16:28:21.030949Z"
    },
    "papermill": {
     "duration": 0.015855,
     "end_time": "2023-07-09T16:28:21.033753",
     "exception": false,
     "start_time": "2023-07-09T16:28:21.017898",
     "status": "completed"
    },
    "tags": []
   },
   "outputs": [],
   "source": [
    "def plot_digits(X, Y):\n",
    "    for i in range(20):\n",
    "        plt.subplot(5, 4, i+1)\n",
    "        plt.tight_layout()\n",
    "        plt.imshow(X[i].reshape(28, 28), cmap='gray')\n",
    "        plt.title('Digit:{}'.format(Y[i]))\n",
    "        plt.xticks([])\n",
    "        plt.yticks([])\n",
    "    plt.show()"
   ]
  },
  {
   "cell_type": "code",
   "execution_count": 8,
   "id": "9d23d2c2",
   "metadata": {
    "execution": {
     "iopub.execute_input": "2023-07-09T16:28:21.046757Z",
     "iopub.status.busy": "2023-07-09T16:28:21.046379Z",
     "iopub.status.idle": "2023-07-09T16:28:23.044238Z",
     "shell.execute_reply": "2023-07-09T16:28:23.042727Z"
    },
    "papermill": {
     "duration": 2.007298,
     "end_time": "2023-07-09T16:28:23.046855",
     "exception": false,
     "start_time": "2023-07-09T16:28:21.039557",
     "status": "completed"
    },
    "tags": []
   },
   "outputs": [
    {
     "data": {
      "image/png": "[encoded data removed]",
      "text/plain": [
       "<Figure size 640x480 with 20 Axes>"
      ]
     },
     "metadata": {},
     "output_type": "display_data"
    }
   ],
   "source": [
    "plot_digits(X_train, Y_train)"
   ]
  },
  {
   "cell_type": "code",
   "execution_count": 9,
   "id": "240382f4",
   "metadata": {
    "execution": {
     "iopub.execute_input": "2023-07-09T16:28:23.061651Z",
     "iopub.status.busy": "2023-07-09T16:28:23.060788Z",
     "iopub.status.idle": "2023-07-09T16:28:23.249857Z",
     "shell.execute_reply": "2023-07-09T16:28:23.249052Z"
    },
    "papermill": {
     "duration": 0.198303,
     "end_time": "2023-07-09T16:28:23.251609",
     "exception": false,
     "start_time": "2023-07-09T16:28:23.053306",
     "status": "completed"
    },
    "tags": []
   },
   "outputs": [
    {
     "data": {
      "image/png": "[encoded data removed]",
      "text/plain": [
       "<Figure size 800x800 with 1 Axes>"
      ]
     },
     "metadata": {},
     "output_type": "display_data"
    }
   ],
   "source": [
    "fig, ax = plt.subplots(figsize=(8,8))\n",
    "sns.countplot(Y_train)\n",
    "ax.set_title('Distribution of Digits', fontsize=14)\n",
    "ax.set_xlabel('Digits', fontsize=12)\n",
    "ax.set_ylabel('Count', fontsize=14)\n",
    "plt.show()"
   ]
  },
  {
   "cell_type": "code",
   "execution_count": 10,
   "id": "f4e0eb55",
   "metadata": {
    "execution": {
     "iopub.execute_input": "2023-07-09T16:28:23.265729Z",
     "iopub.status.busy": "2023-07-09T16:28:23.265382Z",
     "iopub.status.idle": "2023-07-09T16:28:23.504554Z",
     "shell.execute_reply": "2023-07-09T16:28:23.503295Z"
    },
    "papermill": {
     "duration": 0.249094,
     "end_time": "2023-07-09T16:28:23.507139",
     "exception": false,
     "start_time": "2023-07-09T16:28:23.258045",
     "status": "completed"
    },
    "tags": []
   },
   "outputs": [],
   "source": [
    "#Train-Test Split\n",
    "X_dev, X_val, Y_dev, Y_val = train_test_split(X_train, Y_train, test_size=0.03, shuffle=True, random_state=2019)\n",
    "T_dev = pd.get_dummies(Y_dev).values\n",
    "T_val = pd.get_dummies(Y_val).values"
   ]
  },
  {
   "cell_type": "code",
   "execution_count": 11,
   "id": "7682e7a8",
   "metadata": {
    "execution": {
     "iopub.execute_input": "2023-07-09T16:28:23.523365Z",
     "iopub.status.busy": "2023-07-09T16:28:23.523038Z",
     "iopub.status.idle": "2023-07-09T16:28:23.529307Z",
     "shell.execute_reply": "2023-07-09T16:28:23.527779Z"
    },
    "papermill": {
     "duration": 0.017354,
     "end_time": "2023-07-09T16:28:23.531708",
     "exception": false,
     "start_time": "2023-07-09T16:28:23.514354",
     "status": "completed"
    },
    "tags": []
   },
   "outputs": [],
   "source": [
    "#Reshape the input \n",
    "X_dev = X_dev.reshape(X_dev.shape[0], 28, 28, 1)\n",
    "X_val = X_val.reshape(X_val.shape[0], 28, 28, 1)"
   ]
  },
  {
   "cell_type": "code",
   "execution_count": 12,
   "id": "3c445dee",
   "metadata": {
    "execution": {
     "iopub.execute_input": "2023-07-09T16:28:23.546468Z",
     "iopub.status.busy": "2023-07-09T16:28:23.546102Z",
     "iopub.status.idle": "2023-07-09T16:28:23.778094Z",
     "shell.execute_reply": "2023-07-09T16:28:23.777300Z"
    },
    "papermill": {
     "duration": 0.241767,
     "end_time": "2023-07-09T16:28:23.780102",
     "exception": false,
     "start_time": "2023-07-09T16:28:23.538335",
     "status": "completed"
    },
    "tags": []
   },
   "outputs": [],
   "source": [
    "model = Sequential()\n",
    "model.add(Conv2D(filters=32, kernel_size=(5,5), padding='same', activation='relu', input_shape=(28, 28, 1)))\n",
    "model.add(MaxPool2D(strides=2))\n",
    "model.add(Conv2D(filters=48, kernel_size=(5,5), padding='valid', activation='relu'))\n",
    "model.add(MaxPool2D(strides=2))\n",
    "model.add(Flatten())\n",
    "model.add(Dense(256, activation='relu'))\n",
    "model.add(Dense(84, activation='relu'))\n",
    "model.add(Dense(10, activation='softmax'))"
   ]
  },
  {
   "cell_type": "code",
   "execution_count": 13,
   "id": "8bb8b9d9",
   "metadata": {
    "execution": {
     "iopub.execute_input": "2023-07-09T16:28:23.796449Z",
     "iopub.status.busy": "2023-07-09T16:28:23.795366Z",
     "iopub.status.idle": "2023-07-09T16:28:23.827854Z",
     "shell.execute_reply": "2023-07-09T16:28:23.826420Z"
    },
    "papermill": {
     "duration": 0.044089,
     "end_time": "2023-07-09T16:28:23.830851",
     "exception": false,
     "start_time": "2023-07-09T16:28:23.786762",
     "status": "completed"
    },
    "tags": []
   },
   "outputs": [
    {
     "name": "stdout",
     "output_type": "stream",
     "text": [
      "Model: \"sequential\"\n",
      "_________________________________________________________________\n",
      " Layer (type)                Output Shape              Param #   \n",
      "=================================================================\n",
      " conv2d (Conv2D)             (None, 28, 28, 32)        832       \n",
      "                                                                 \n",
      " max_pooling2d (MaxPooling2D  (None, 14, 14, 32)       0         \n",
      " )                                                               \n",
      "                                                                 \n",
      " conv2d_1 (Conv2D)           (None, 10, 10, 48)        38448     \n",
      "                                                                 \n",
      " max_pooling2d_1 (MaxPooling  (None, 5, 5, 48)         0         \n",
      " 2D)                                                             \n",
      "                                                                 \n",
      " flatten (Flatten)           (None, 1200)              0         \n",
      "                                                                 \n",
      " dense (Dense)               (None, 256)               307456    \n",
      "                                                                 \n",
      " dense_1 (Dense)             (None, 84)                21588     \n",
      "                                                                 \n",
      " dense_2 (Dense)             (None, 10)                850       \n",
      "                                                                 \n",
      "=================================================================\n",
      "Total params: 369,174\n",
      "Trainable params: 369,174\n",
      "Non-trainable params: 0\n",
      "_________________________________________________________________\n"
     ]
    }
   ],
   "source": [
    "model.build()\n",
    "model.summary()"
   ]
  },
  {
   "cell_type": "code",
   "execution_count": 14,
   "id": "cdedc857",
   "metadata": {
    "execution": {
     "iopub.execute_input": "2023-07-09T16:28:23.848700Z",
     "iopub.status.busy": "2023-07-09T16:28:23.848331Z",
     "iopub.status.idle": "2023-07-09T16:28:23.868170Z",
     "shell.execute_reply": "2023-07-09T16:28:23.866523Z"
    },
    "papermill": {
     "duration": 0.031177,
     "end_time": "2023-07-09T16:28:23.870325",
     "exception": false,
     "start_time": "2023-07-09T16:28:23.839148",
     "status": "completed"
    },
    "tags": []
   },
   "outputs": [
    {
     "name": "stderr",
     "output_type": "stream",
     "text": [
      "/opt/conda/lib/python3.10/site-packages/keras/optimizers/legacy/adam.py:117: UserWarning: The `lr` argument is deprecated, use `learning_rate` instead.\n",
      "  super().__init__(name, **kwargs)\n"
     ]
    }
   ],
   "source": [
    "adam = Adam(lr=5e-4)\n",
    "model.compile(loss='categorical_crossentropy', metrics=['accuracy'], optimizer=adam)"
   ]
  },
  {
   "cell_type": "code",
   "execution_count": 15,
   "id": "1286e9bd",
   "metadata": {
    "execution": {
     "iopub.execute_input": "2023-07-09T16:28:23.888273Z",
     "iopub.status.busy": "2023-07-09T16:28:23.887954Z",
     "iopub.status.idle": "2023-07-09T16:28:23.893375Z",
     "shell.execute_reply": "2023-07-09T16:28:23.892004Z"
    },
    "papermill": {
     "duration": 0.016606,
     "end_time": "2023-07-09T16:28:23.895352",
     "exception": false,
     "start_time": "2023-07-09T16:28:23.878746",
     "status": "completed"
    },
    "tags": []
   },
   "outputs": [],
   "source": [
    "# Set a learning rate annealer\n",
    "reduce_lr = ReduceLROnPlateau(monitor='val_acc', \n",
    "                                patience=3, \n",
    "                                verbose=1, \n",
    "                                factor=0.2, \n",
    "                                min_lr=1e-6)"
   ]
  },
  {
   "cell_type": "code",
   "execution_count": 16,
   "id": "35188bd0",
   "metadata": {
    "execution": {
     "iopub.execute_input": "2023-07-09T16:28:23.913527Z",
     "iopub.status.busy": "2023-07-09T16:28:23.913134Z",
     "iopub.status.idle": "2023-07-09T16:28:23.975284Z",
     "shell.execute_reply": "2023-07-09T16:28:23.974402Z"
    },
    "papermill": {
     "duration": 0.073981,
     "end_time": "2023-07-09T16:28:23.977509",
     "exception": false,
     "start_time": "2023-07-09T16:28:23.903528",
     "status": "completed"
    },
    "tags": []
   },
   "outputs": [],
   "source": [
    "# Data Augmentation\n",
    "datagen = ImageDataGenerator(\n",
    "            rotation_range=10, \n",
    "            width_shift_range=0.1, \n",
    "            height_shift_range=0.1, \n",
    "            zoom_range=0.1)\n",
    "datagen.fit(X_dev)"
   ]
  },
  {
   "cell_type": "code",
   "execution_count": 17,
   "id": "dd5f6972",
   "metadata": {
    "execution": {
     "iopub.execute_input": "2023-07-09T16:28:23.995299Z",
     "iopub.status.busy": "2023-07-09T16:28:23.994949Z",
     "iopub.status.idle": "2023-07-09T16:46:18.926041Z",
     "shell.execute_reply": "2023-07-09T16:46:18.925315Z"
    },
    "papermill": {
     "duration": 1074.942139,
     "end_time": "2023-07-09T16:46:18.927931",
     "exception": false,
     "start_time": "2023-07-09T16:28:23.985792",
     "status": "completed"
    },
    "tags": []
   },
   "outputs": [
    {
     "name": "stdout",
     "output_type": "stream",
     "text": [
      "Epoch 1/30\n",
      "407/407 [==============================] - 25s 59ms/step - loss: 0.4512 - accuracy: 0.8628 - val_loss: 0.1139 - val_accuracy: 0.9635 - lr: 5.0000e-04\n",
      "Epoch 2/30\n",
      "407/407 [==============================] - 24s 58ms/step - loss: 0.1418 - accuracy: 0.9568 - val_loss: 0.0723 - val_accuracy: 0.9738 - lr: 5.0000e-04\n",
      "Epoch 3/30\n",
      "407/407 [==============================] - 24s 59ms/step - loss: 0.1030 - accuracy: 0.9696 - val_loss: 0.0527 - val_accuracy: 0.9841 - lr: 5.0000e-04\n",
      "Epoch 4/30\n",
      "407/407 [==============================] - 24s 59ms/step - loss: 0.0807 - accuracy: 0.9748 - val_loss: 0.0605 - val_accuracy: 0.9817 - lr: 5.0000e-04\n",
      "Epoch 5/30\n",
      "407/407 [==============================] - 24s 59ms/step - loss: 0.0696 - accuracy: 0.9783 - val_loss: 0.0381 - val_accuracy: 0.9857 - lr: 5.0000e-04\n",
      "Epoch 6/30\n",
      "407/407 [==============================] - 24s 58ms/step - loss: 0.0604 - accuracy: 0.9808 - val_loss: 0.0503 - val_accuracy: 0.9849 - lr: 5.0000e-04\n",
      "Epoch 7/30\n",
      "407/407 [==============================] - 24s 59ms/step - loss: 0.0538 - accuracy: 0.9830 - val_loss: 0.0229 - val_accuracy: 0.9913 - lr: 5.0000e-04\n",
      "Epoch 8/30\n",
      "407/407 [==============================] - 24s 58ms/step - loss: 0.0487 - accuracy: 0.9847 - val_loss: 0.0266 - val_accuracy: 0.9944 - lr: 5.0000e-04\n",
      "Epoch 9/30\n",
      "407/407 [==============================] - 24s 58ms/step - loss: 0.0454 - accuracy: 0.9858 - val_loss: 0.0258 - val_accuracy: 0.9944 - lr: 5.0000e-04\n",
      "Epoch 10/30\n",
      "407/407 [==============================] - 24s 58ms/step - loss: 0.0408 - accuracy: 0.9867 - val_loss: 0.0351 - val_accuracy: 0.9897 - lr: 5.0000e-04\n",
      "Epoch 11/30\n",
      "407/407 [==============================] - 24s 58ms/step - loss: 0.0397 - accuracy: 0.9877 - val_loss: 0.0262 - val_accuracy: 0.9929 - lr: 5.0000e-04\n",
      "Epoch 12/30\n",
      "407/407 [==============================] - 24s 58ms/step - loss: 0.0369 - accuracy: 0.9888 - val_loss: 0.0230 - val_accuracy: 0.9921 - lr: 5.0000e-04\n",
      "Epoch 13/30\n",
      "407/407 [==============================] - 24s 58ms/step - loss: 0.0355 - accuracy: 0.9892 - val_loss: 0.0333 - val_accuracy: 0.9913 - lr: 5.0000e-04\n",
      "Epoch 14/30\n",
      "407/407 [==============================] - 24s 58ms/step - loss: 0.0317 - accuracy: 0.9900 - val_loss: 0.0190 - val_accuracy: 0.9944 - lr: 5.0000e-04\n",
      "Epoch 15/30\n",
      "407/407 [==============================] - 24s 58ms/step - loss: 0.0311 - accuracy: 0.9899 - val_loss: 0.0251 - val_accuracy: 0.9913 - lr: 5.0000e-04\n",
      "Epoch 16/30\n",
      "407/407 [==============================] - 24s 58ms/step - loss: 0.0302 - accuracy: 0.9905 - val_loss: 0.0238 - val_accuracy: 0.9952 - lr: 5.0000e-04\n",
      "Epoch 17/30\n",
      "407/407 [==============================] - 23s 58ms/step - loss: 0.0284 - accuracy: 0.9913 - val_loss: 0.0192 - val_accuracy: 0.9929 - lr: 5.0000e-04\n",
      "Epoch 18/30\n",
      "407/407 [==============================] - 24s 58ms/step - loss: 0.0281 - accuracy: 0.9909 - val_loss: 0.0187 - val_accuracy: 0.9952 - lr: 5.0000e-04\n",
      "Epoch 19/30\n",
      "407/407 [==============================] - 24s 58ms/step - loss: 0.0259 - accuracy: 0.9913 - val_loss: 0.0240 - val_accuracy: 0.9944 - lr: 5.0000e-04\n",
      "Epoch 20/30\n",
      "407/407 [==============================] - 24s 58ms/step - loss: 0.0261 - accuracy: 0.9916 - val_loss: 0.0157 - val_accuracy: 0.9944 - lr: 5.0000e-04\n",
      "Epoch 21/30\n",
      "407/407 [==============================] - 24s 58ms/step - loss: 0.0239 - accuracy: 0.9921 - val_loss: 0.0214 - val_accuracy: 0.9937 - lr: 5.0000e-04\n",
      "Epoch 22/30\n",
      "407/407 [==============================] - 24s 58ms/step - loss: 0.0234 - accuracy: 0.9923 - val_loss: 0.0168 - val_accuracy: 0.9968 - lr: 5.0000e-04\n",
      "Epoch 23/30\n",
      "407/407 [==============================] - 24s 58ms/step - loss: 0.0221 - accuracy: 0.9930 - val_loss: 0.0150 - val_accuracy: 0.9968 - lr: 5.0000e-04\n",
      "Epoch 24/30\n",
      "407/407 [==============================] - 24s 58ms/step - loss: 0.0209 - accuracy: 0.9934 - val_loss: 0.0174 - val_accuracy: 0.9960 - lr: 5.0000e-04\n",
      "Epoch 25/30\n",
      "407/407 [==============================] - 24s 58ms/step - loss: 0.0199 - accuracy: 0.9939 - val_loss: 0.0175 - val_accuracy: 0.9952 - lr: 5.0000e-04\n",
      "Epoch 26/30\n",
      "407/407 [==============================] - 24s 58ms/step - loss: 0.0209 - accuracy: 0.9934 - val_loss: 0.0097 - val_accuracy: 0.9952 - lr: 5.0000e-04\n",
      "Epoch 27/30\n",
      "407/407 [==============================] - 24s 59ms/step - loss: 0.0180 - accuracy: 0.9944 - val_loss: 0.0172 - val_accuracy: 0.9960 - lr: 5.0000e-04\n",
      "Epoch 28/30\n",
      "407/407 [==============================] - 24s 59ms/step - loss: 0.0186 - accuracy: 0.9943 - val_loss: 0.0249 - val_accuracy: 0.9952 - lr: 5.0000e-04\n",
      "Epoch 29/30\n",
      "407/407 [==============================] - 24s 58ms/step - loss: 0.0181 - accuracy: 0.9942 - val_loss: 0.0226 - val_accuracy: 0.9937 - lr: 5.0000e-04\n",
      "Epoch 30/30\n",
      "407/407 [==============================] - 24s 58ms/step - loss: 0.0170 - accuracy: 0.9948 - val_loss: 0.0124 - val_accuracy: 0.9952 - lr: 5.0000e-04\n"
     ]
    },
    {
     "data": {
      "text/plain": [
       "<keras.callbacks.History at 0x7ad1904e8c10>"
      ]
     },
     "execution_count": 17,
     "metadata": {},
     "output_type": "execute_result"
    }
   ],
   "source": [
    "model.fit(datagen.flow(X_dev, T_dev, batch_size=100), steps_per_epoch=len(X_dev)/100, \n",
    "                    epochs=30, validation_data=(X_val, T_val), callbacks=[reduce_lr])"
   ]
  },
  {
   "cell_type": "code",
   "execution_count": 18,
   "id": "338d2173",
   "metadata": {
    "execution": {
     "iopub.execute_input": "2023-07-09T16:46:20.378743Z",
     "iopub.status.busy": "2023-07-09T16:46:20.378388Z",
     "iopub.status.idle": "2023-07-09T16:46:20.742329Z",
     "shell.execute_reply": "2023-07-09T16:46:20.740958Z"
    },
    "papermill": {
     "duration": 1.060949,
     "end_time": "2023-07-09T16:46:20.744557",
     "exception": false,
     "start_time": "2023-07-09T16:46:19.683608",
     "status": "completed"
    },
    "tags": []
   },
   "outputs": [
    {
     "name": "stdout",
     "output_type": "stream",
     "text": [
      "40/40 [==============================] - 0s 7ms/step - loss: 0.0124 - accuracy: 0.9952\n"
     ]
    }
   ],
   "source": [
    "score = model.evaluate(X_val, T_val, batch_size=32)"
   ]
  },
  {
   "cell_type": "code",
   "execution_count": 19,
   "id": "5a099c7d",
   "metadata": {
    "execution": {
     "iopub.execute_input": "2023-07-09T16:46:22.206690Z",
     "iopub.status.busy": "2023-07-09T16:46:22.205715Z",
     "iopub.status.idle": "2023-07-09T16:46:22.211377Z",
     "shell.execute_reply": "2023-07-09T16:46:22.210745Z"
    },
    "papermill": {
     "duration": 0.7027,
     "end_time": "2023-07-09T16:46:22.213142",
     "exception": false,
     "start_time": "2023-07-09T16:46:21.510442",
     "status": "completed"
    },
    "tags": []
   },
   "outputs": [
    {
     "data": {
      "text/plain": [
       "[0.01243568304926157, 0.9952380657196045]"
      ]
     },
     "execution_count": 19,
     "metadata": {},
     "output_type": "execute_result"
    }
   ],
   "source": [
    "score"
   ]
  },
  {
   "cell_type": "code",
   "execution_count": 20,
   "id": "4e7dd093",
   "metadata": {
    "execution": {
     "iopub.execute_input": "2023-07-09T16:46:23.671759Z",
     "iopub.status.busy": "2023-07-09T16:46:23.671382Z",
     "iopub.status.idle": "2023-07-09T16:46:25.545809Z",
     "shell.execute_reply": "2023-07-09T16:46:25.544744Z"
    },
    "papermill": {
     "duration": 2.570036,
     "end_time": "2023-07-09T16:46:25.548036",
     "exception": false,
     "start_time": "2023-07-09T16:46:22.978000",
     "status": "completed"
    },
    "tags": []
   },
   "outputs": [],
   "source": [
    "df_test = pd.read_csv('/kaggle/input/digit-recognizer/test.csv')\n",
    "X_test = np.array(df_test)\n",
    "X_test = X_test/255.0"
   ]
  },
  {
   "cell_type": "code",
   "execution_count": 21,
   "id": "56f55614",
   "metadata": {
    "execution": {
     "iopub.execute_input": "2023-07-09T16:46:27.000698Z",
     "iopub.status.busy": "2023-07-09T16:46:27.000306Z",
     "iopub.status.idle": "2023-07-09T16:46:33.631038Z",
     "shell.execute_reply": "2023-07-09T16:46:33.629952Z"
    },
    "papermill": {
     "duration": 7.331837,
     "end_time": "2023-07-09T16:46:33.634117",
     "exception": false,
     "start_time": "2023-07-09T16:46:26.302280",
     "status": "completed"
    },
    "tags": []
   },
   "outputs": [
    {
     "name": "stdout",
     "output_type": "stream",
     "text": [
      "875/875 [==============================] - 6s 7ms/step\n"
     ]
    }
   ],
   "source": [
    "X_test = X_test.reshape((X_test.shape[0], 28, 28, 1))\n",
    "Y_test = model.predict(X_test)"
   ]
  },
  {
   "cell_type": "code",
   "execution_count": 22,
   "id": "8af5a8e7",
   "metadata": {
    "execution": {
     "iopub.execute_input": "2023-07-09T16:46:35.099879Z",
     "iopub.status.busy": "2023-07-09T16:46:35.099451Z",
     "iopub.status.idle": "2023-07-09T16:46:35.107566Z",
     "shell.execute_reply": "2023-07-09T16:46:35.106173Z"
    },
    "papermill": {
     "duration": 0.70878,
     "end_time": "2023-07-09T16:46:35.109632",
     "exception": false,
     "start_time": "2023-07-09T16:46:34.400852",
     "status": "completed"
    },
    "tags": []
   },
   "outputs": [
    {
     "data": {
      "text/plain": [
       "array([2, 0, 9, 0, 3])"
      ]
     },
     "execution_count": 22,
     "metadata": {},
     "output_type": "execute_result"
    }
   ],
   "source": [
    "Y_test = np.argmax(Y_test, axis=1)\n",
    "Y_test[:5]"
   ]
  },
  {
   "cell_type": "code",
   "execution_count": 23,
   "id": "1799952b",
   "metadata": {
    "execution": {
     "iopub.execute_input": "2023-07-09T16:46:36.572938Z",
     "iopub.status.busy": "2023-07-09T16:46:36.572611Z",
     "iopub.status.idle": "2023-07-09T16:46:36.594424Z",
     "shell.execute_reply": "2023-07-09T16:46:36.593642Z"
    },
    "papermill": {
     "duration": 0.71809,
     "end_time": "2023-07-09T16:46:36.596149",
     "exception": false,
     "start_time": "2023-07-09T16:46:35.878059",
     "status": "completed"
    },
    "tags": []
   },
   "outputs": [
    {
     "data": {
      "text/html": [
       "<div>\n",
       "<style scoped>\n",
       "    .dataframe tbody tr th:only-of-type {\n",
       "        vertical-align: middle;\n",
       "    }\n",
       "\n",
       "    .dataframe tbody tr th {\n",
       "        vertical-align: top;\n",
       "    }\n",
       "\n",
       "    .dataframe thead th {\n",
       "        text-align: right;\n",
       "    }\n",
       "</style>\n",
       "<table border=\"1\" class=\"dataframe\">\n",
       "  <thead>\n",
       "    <tr style=\"text-align: right;\">\n",
       "      <th></th>\n",
       "      <th>ImageId</th>\n",
       "      <th>Label</th>\n",
       "    </tr>\n",
       "  </thead>\n",
       "  <tbody>\n",
       "    <tr>\n",
       "      <th>0</th>\n",
       "      <td>1</td>\n",
       "      <td>2</td>\n",
       "    </tr>\n",
       "    <tr>\n",
       "      <th>1</th>\n",
       "      <td>2</td>\n",
       "      <td>0</td>\n",
       "    </tr>\n",
       "    <tr>\n",
       "      <th>2</th>\n",
       "      <td>3</td>\n",
       "      <td>9</td>\n",
       "    </tr>\n",
       "    <tr>\n",
       "      <th>3</th>\n",
       "      <td>4</td>\n",
       "      <td>0</td>\n",
       "    </tr>\n",
       "    <tr>\n",
       "      <th>4</th>\n",
       "      <td>5</td>\n",
       "      <td>3</td>\n",
       "    </tr>\n",
       "  </tbody>\n",
       "</table>\n",
       "</div>"
      ],
      "text/plain": [
       "   ImageId  Label\n",
       "0        1      2\n",
       "1        2      0\n",
       "2        3      9\n",
       "3        4      0\n",
       "4        5      3"
      ]
     },
     "execution_count": 23,
     "metadata": {},
     "output_type": "execute_result"
    }
   ],
   "source": [
    "df_out = pd.read_csv('/kaggle/input/digit-recognizer/sample_submission.csv')\n",
    "df_out['Label'] = Y_test\n",
    "df_out.head()"
   ]
  },
  {
   "cell_type": "code",
   "execution_count": 24,
   "id": "5f851b63",
   "metadata": {
    "execution": {
     "iopub.execute_input": "2023-07-09T16:46:38.062529Z",
     "iopub.status.busy": "2023-07-09T16:46:38.062224Z",
     "iopub.status.idle": "2023-07-09T16:46:38.101691Z",
     "shell.execute_reply": "2023-07-09T16:46:38.100877Z"
    },
    "papermill": {
     "duration": 0.742294,
     "end_time": "2023-07-09T16:46:38.103809",
     "exception": false,
     "start_time": "2023-07-09T16:46:37.361515",
     "status": "completed"
    },
    "tags": []
   },
   "outputs": [],
   "source": [
    "df_out.to_csv('out.csv', index=False)"
   ]
  }
 ],
 "metadata": {
  "kernelspec": {
   "display_name": "Python 3",
   "language": "python",
   "name": "python3"
  },
  "language_info": {
   "codemirror_mode": {
    "name": "ipython",
    "version": 3
   },
   "file_extension": ".py",
   "mimetype": "text/x-python",
   "name": "python",
   "nbconvert_exporter": "python",
   "pygments_lexer": "ipython3",
   "version": "3.10.10"
  },
  "papermill": {
   "default_parameters": {},
   "duration": 1123.197376,
   "end_time": "2023-07-09T16:46:42.294991",
   "environment_variables": {},
   "exception": null,
   "input_path": "__notebook__.ipynb",
   "output_path": "__notebook__.ipynb",
   "parameters": {},
   "start_time": "2023-07-09T16:27:59.097615",
   "version": "2.4.0"
  }
 },
 "nbformat": 4,
 "nbformat_minor": 5
}
